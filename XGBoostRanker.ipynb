{
 "cells": [
  {
   "cell_type": "markdown",
   "metadata": {},
   "source": [
    "# import libraries"
   ]
  },
  {
   "cell_type": "code",
   "execution_count": 2,
   "metadata": {},
   "outputs": [],
   "source": [
    "import pandas as pd\n",
    "import numpy as np\n",
    "\n",
    "import xgboost as xgb\n",
    "from sklearn.preprocessing  import StandardScaler\n",
    "from sklearn.model_selection import StratifiedGroupKFold, cross_val_score\n",
    "\n",
    "import matplotlib.pyplot as plt\n",
    "import seaborn as sns"
   ]
  },
  {
   "cell_type": "code",
   "execution_count": 3,
   "metadata": {},
   "outputs": [],
   "source": [
    "import pickle\n",
    "from sklearn.metrics import ndcg_score"
   ]
  },
  {
   "cell_type": "markdown",
   "metadata": {},
   "source": [
    "# import data"
   ]
  },
  {
   "cell_type": "code",
   "execution_count": 4,
   "metadata": {},
   "outputs": [],
   "source": [
    "data = pd.read_csv('/home/darya/Загрузки/intern_task.csv')"
   ]
  },
  {
   "cell_type": "code",
   "execution_count": 5,
   "metadata": {},
   "outputs": [
    {
     "data": {
      "text/html": [
       "<div>\n",
       "<style scoped>\n",
       "    .dataframe tbody tr th:only-of-type {\n",
       "        vertical-align: middle;\n",
       "    }\n",
       "\n",
       "    .dataframe tbody tr th {\n",
       "        vertical-align: top;\n",
       "    }\n",
       "\n",
       "    .dataframe thead th {\n",
       "        text-align: right;\n",
       "    }\n",
       "</style>\n",
       "<table border=\"1\" class=\"dataframe\">\n",
       "  <thead>\n",
       "    <tr style=\"text-align: right;\">\n",
       "      <th></th>\n",
       "      <th>rank</th>\n",
       "      <th>query_id</th>\n",
       "      <th>feature_0</th>\n",
       "      <th>feature_1</th>\n",
       "      <th>feature_2</th>\n",
       "      <th>feature_3</th>\n",
       "      <th>feature_4</th>\n",
       "      <th>feature_5</th>\n",
       "      <th>feature_6</th>\n",
       "      <th>feature_7</th>\n",
       "      <th>...</th>\n",
       "      <th>feature_134</th>\n",
       "      <th>feature_135</th>\n",
       "      <th>feature_136</th>\n",
       "      <th>feature_137</th>\n",
       "      <th>feature_138</th>\n",
       "      <th>feature_139</th>\n",
       "      <th>feature_140</th>\n",
       "      <th>feature_141</th>\n",
       "      <th>feature_142</th>\n",
       "      <th>feature_143</th>\n",
       "    </tr>\n",
       "  </thead>\n",
       "  <tbody>\n",
       "    <tr>\n",
       "      <th>133956</th>\n",
       "      <td>2</td>\n",
       "      <td>16915</td>\n",
       "      <td>0.0</td>\n",
       "      <td>0.0</td>\n",
       "      <td>0.0</td>\n",
       "      <td>1.0</td>\n",
       "      <td>1.0</td>\n",
       "      <td>0.0</td>\n",
       "      <td>0.000000</td>\n",
       "      <td>0.000000</td>\n",
       "      <td>...</td>\n",
       "      <td>0.0</td>\n",
       "      <td>0.000000</td>\n",
       "      <td>0.200000</td>\n",
       "      <td>0.000000</td>\n",
       "      <td>0.000000</td>\n",
       "      <td>0.5</td>\n",
       "      <td>0.029412</td>\n",
       "      <td>0.000000</td>\n",
       "      <td>0.0</td>\n",
       "      <td>0.000000</td>\n",
       "    </tr>\n",
       "    <tr>\n",
       "      <th>94072</th>\n",
       "      <td>2</td>\n",
       "      <td>12250</td>\n",
       "      <td>3.0</td>\n",
       "      <td>0.0</td>\n",
       "      <td>1.0</td>\n",
       "      <td>0.0</td>\n",
       "      <td>3.0</td>\n",
       "      <td>1.0</td>\n",
       "      <td>0.000000</td>\n",
       "      <td>0.333333</td>\n",
       "      <td>...</td>\n",
       "      <td>0.0</td>\n",
       "      <td>0.000000</td>\n",
       "      <td>0.000000</td>\n",
       "      <td>0.998202</td>\n",
       "      <td>10.222280</td>\n",
       "      <td>0.0</td>\n",
       "      <td>0.028881</td>\n",
       "      <td>0.000003</td>\n",
       "      <td>23.0</td>\n",
       "      <td>7.666667</td>\n",
       "    </tr>\n",
       "    <tr>\n",
       "      <th>169854</th>\n",
       "      <td>0</td>\n",
       "      <td>20830</td>\n",
       "      <td>3.0</td>\n",
       "      <td>1.0</td>\n",
       "      <td>1.0</td>\n",
       "      <td>0.0</td>\n",
       "      <td>3.0</td>\n",
       "      <td>1.0</td>\n",
       "      <td>0.333333</td>\n",
       "      <td>0.333333</td>\n",
       "      <td>...</td>\n",
       "      <td>38.0</td>\n",
       "      <td>67.189286</td>\n",
       "      <td>0.000000</td>\n",
       "      <td>0.996112</td>\n",
       "      <td>6.749230</td>\n",
       "      <td>0.0</td>\n",
       "      <td>0.002864</td>\n",
       "      <td>0.000000</td>\n",
       "      <td>17.0</td>\n",
       "      <td>5.666667</td>\n",
       "    </tr>\n",
       "    <tr>\n",
       "      <th>158046</th>\n",
       "      <td>0</td>\n",
       "      <td>19555</td>\n",
       "      <td>3.0</td>\n",
       "      <td>0.0</td>\n",
       "      <td>0.0</td>\n",
       "      <td>0.0</td>\n",
       "      <td>3.0</td>\n",
       "      <td>1.0</td>\n",
       "      <td>0.000000</td>\n",
       "      <td>0.000000</td>\n",
       "      <td>...</td>\n",
       "      <td>0.0</td>\n",
       "      <td>0.000000</td>\n",
       "      <td>0.000000</td>\n",
       "      <td>0.413342</td>\n",
       "      <td>0.000000</td>\n",
       "      <td>0.0</td>\n",
       "      <td>0.010349</td>\n",
       "      <td>0.000054</td>\n",
       "      <td>91.0</td>\n",
       "      <td>30.333333</td>\n",
       "    </tr>\n",
       "    <tr>\n",
       "      <th>131016</th>\n",
       "      <td>1</td>\n",
       "      <td>16525</td>\n",
       "      <td>2.0</td>\n",
       "      <td>2.0</td>\n",
       "      <td>2.0</td>\n",
       "      <td>0.0</td>\n",
       "      <td>2.0</td>\n",
       "      <td>1.0</td>\n",
       "      <td>1.000000</td>\n",
       "      <td>1.000000</td>\n",
       "      <td>...</td>\n",
       "      <td>13.0</td>\n",
       "      <td>23.140000</td>\n",
       "      <td>0.000000</td>\n",
       "      <td>0.963914</td>\n",
       "      <td>10.666942</td>\n",
       "      <td>0.0</td>\n",
       "      <td>0.013588</td>\n",
       "      <td>0.000018</td>\n",
       "      <td>45.0</td>\n",
       "      <td>22.500000</td>\n",
       "    </tr>\n",
       "    <tr>\n",
       "      <th>113138</th>\n",
       "      <td>1</td>\n",
       "      <td>14470</td>\n",
       "      <td>3.0</td>\n",
       "      <td>0.0</td>\n",
       "      <td>1.0</td>\n",
       "      <td>0.0</td>\n",
       "      <td>3.0</td>\n",
       "      <td>1.0</td>\n",
       "      <td>0.000000</td>\n",
       "      <td>0.333333</td>\n",
       "      <td>...</td>\n",
       "      <td>1.0</td>\n",
       "      <td>66.000000</td>\n",
       "      <td>0.000000</td>\n",
       "      <td>0.693305</td>\n",
       "      <td>5.908467</td>\n",
       "      <td>0.0</td>\n",
       "      <td>0.030460</td>\n",
       "      <td>0.000923</td>\n",
       "      <td>175.0</td>\n",
       "      <td>58.333333</td>\n",
       "    </tr>\n",
       "    <tr>\n",
       "      <th>215962</th>\n",
       "      <td>2</td>\n",
       "      <td>26770</td>\n",
       "      <td>2.0</td>\n",
       "      <td>0.0</td>\n",
       "      <td>2.0</td>\n",
       "      <td>0.0</td>\n",
       "      <td>2.0</td>\n",
       "      <td>1.0</td>\n",
       "      <td>0.000000</td>\n",
       "      <td>1.000000</td>\n",
       "      <td>...</td>\n",
       "      <td>0.0</td>\n",
       "      <td>0.000000</td>\n",
       "      <td>0.000000</td>\n",
       "      <td>0.999709</td>\n",
       "      <td>43.827322</td>\n",
       "      <td>0.0</td>\n",
       "      <td>0.096582</td>\n",
       "      <td>0.000009</td>\n",
       "      <td>124.0</td>\n",
       "      <td>62.000000</td>\n",
       "    </tr>\n",
       "    <tr>\n",
       "      <th>218721</th>\n",
       "      <td>0</td>\n",
       "      <td>27205</td>\n",
       "      <td>1.0</td>\n",
       "      <td>0.0</td>\n",
       "      <td>1.0</td>\n",
       "      <td>1.0</td>\n",
       "      <td>1.0</td>\n",
       "      <td>1.0</td>\n",
       "      <td>0.000000</td>\n",
       "      <td>1.000000</td>\n",
       "      <td>...</td>\n",
       "      <td>0.0</td>\n",
       "      <td>0.000000</td>\n",
       "      <td>0.111111</td>\n",
       "      <td>1.000000</td>\n",
       "      <td>16.022785</td>\n",
       "      <td>1.0</td>\n",
       "      <td>0.028640</td>\n",
       "      <td>0.000000</td>\n",
       "      <td>10.0</td>\n",
       "      <td>10.000000</td>\n",
       "    </tr>\n",
       "    <tr>\n",
       "      <th>163381</th>\n",
       "      <td>0</td>\n",
       "      <td>20035</td>\n",
       "      <td>1.0</td>\n",
       "      <td>0.0</td>\n",
       "      <td>1.0</td>\n",
       "      <td>1.0</td>\n",
       "      <td>1.0</td>\n",
       "      <td>1.0</td>\n",
       "      <td>0.000000</td>\n",
       "      <td>1.000000</td>\n",
       "      <td>...</td>\n",
       "      <td>1.0</td>\n",
       "      <td>17.000000</td>\n",
       "      <td>0.142857</td>\n",
       "      <td>1.000000</td>\n",
       "      <td>10.690044</td>\n",
       "      <td>1.0</td>\n",
       "      <td>0.057159</td>\n",
       "      <td>0.000000</td>\n",
       "      <td>101.0</td>\n",
       "      <td>101.000000</td>\n",
       "    </tr>\n",
       "    <tr>\n",
       "      <th>143319</th>\n",
       "      <td>1</td>\n",
       "      <td>17905</td>\n",
       "      <td>0.0</td>\n",
       "      <td>0.0</td>\n",
       "      <td>0.0</td>\n",
       "      <td>1.0</td>\n",
       "      <td>1.0</td>\n",
       "      <td>0.0</td>\n",
       "      <td>0.000000</td>\n",
       "      <td>0.000000</td>\n",
       "      <td>...</td>\n",
       "      <td>6.0</td>\n",
       "      <td>31.466667</td>\n",
       "      <td>0.142857</td>\n",
       "      <td>0.000000</td>\n",
       "      <td>0.000000</td>\n",
       "      <td>1.0</td>\n",
       "      <td>0.001727</td>\n",
       "      <td>0.000000</td>\n",
       "      <td>0.0</td>\n",
       "      <td>0.000000</td>\n",
       "    </tr>\n",
       "  </tbody>\n",
       "</table>\n",
       "<p>10 rows × 146 columns</p>\n",
       "</div>"
      ],
      "text/plain": [
       "        rank  query_id  feature_0  feature_1  feature_2  feature_3  feature_4  \\\n",
       "133956     2     16915        0.0        0.0        0.0        1.0        1.0   \n",
       "94072      2     12250        3.0        0.0        1.0        0.0        3.0   \n",
       "169854     0     20830        3.0        1.0        1.0        0.0        3.0   \n",
       "158046     0     19555        3.0        0.0        0.0        0.0        3.0   \n",
       "131016     1     16525        2.0        2.0        2.0        0.0        2.0   \n",
       "113138     1     14470        3.0        0.0        1.0        0.0        3.0   \n",
       "215962     2     26770        2.0        0.0        2.0        0.0        2.0   \n",
       "218721     0     27205        1.0        0.0        1.0        1.0        1.0   \n",
       "163381     0     20035        1.0        0.0        1.0        1.0        1.0   \n",
       "143319     1     17905        0.0        0.0        0.0        1.0        1.0   \n",
       "\n",
       "        feature_5  feature_6  feature_7  ...  feature_134  feature_135  \\\n",
       "133956        0.0   0.000000   0.000000  ...          0.0     0.000000   \n",
       "94072         1.0   0.000000   0.333333  ...          0.0     0.000000   \n",
       "169854        1.0   0.333333   0.333333  ...         38.0    67.189286   \n",
       "158046        1.0   0.000000   0.000000  ...          0.0     0.000000   \n",
       "131016        1.0   1.000000   1.000000  ...         13.0    23.140000   \n",
       "113138        1.0   0.000000   0.333333  ...          1.0    66.000000   \n",
       "215962        1.0   0.000000   1.000000  ...          0.0     0.000000   \n",
       "218721        1.0   0.000000   1.000000  ...          0.0     0.000000   \n",
       "163381        1.0   0.000000   1.000000  ...          1.0    17.000000   \n",
       "143319        0.0   0.000000   0.000000  ...          6.0    31.466667   \n",
       "\n",
       "        feature_136  feature_137  feature_138  feature_139  feature_140  \\\n",
       "133956     0.200000     0.000000     0.000000          0.5     0.029412   \n",
       "94072      0.000000     0.998202    10.222280          0.0     0.028881   \n",
       "169854     0.000000     0.996112     6.749230          0.0     0.002864   \n",
       "158046     0.000000     0.413342     0.000000          0.0     0.010349   \n",
       "131016     0.000000     0.963914    10.666942          0.0     0.013588   \n",
       "113138     0.000000     0.693305     5.908467          0.0     0.030460   \n",
       "215962     0.000000     0.999709    43.827322          0.0     0.096582   \n",
       "218721     0.111111     1.000000    16.022785          1.0     0.028640   \n",
       "163381     0.142857     1.000000    10.690044          1.0     0.057159   \n",
       "143319     0.142857     0.000000     0.000000          1.0     0.001727   \n",
       "\n",
       "        feature_141  feature_142  feature_143  \n",
       "133956     0.000000          0.0     0.000000  \n",
       "94072      0.000003         23.0     7.666667  \n",
       "169854     0.000000         17.0     5.666667  \n",
       "158046     0.000054         91.0    30.333333  \n",
       "131016     0.000018         45.0    22.500000  \n",
       "113138     0.000923        175.0    58.333333  \n",
       "215962     0.000009        124.0    62.000000  \n",
       "218721     0.000000         10.0    10.000000  \n",
       "163381     0.000000        101.0   101.000000  \n",
       "143319     0.000000          0.0     0.000000  \n",
       "\n",
       "[10 rows x 146 columns]"
      ]
     },
     "execution_count": 5,
     "metadata": {},
     "output_type": "execute_result"
    }
   ],
   "source": [
    "data.sample(10)"
   ]
  },
  {
   "cell_type": "code",
   "execution_count": 6,
   "metadata": {},
   "outputs": [
    {
     "data": {
      "text/plain": [
       "rank\n",
       "0    46\n",
       "1    32\n",
       "2    10\n",
       "4     3\n",
       "3     1\n",
       "Name: count, dtype: int64"
      ]
     },
     "execution_count": 6,
     "metadata": {},
     "output_type": "execute_result"
    }
   ],
   "source": [
    "data.loc[data['query_id'] == 10]['rank'].value_counts()"
   ]
  },
  {
   "cell_type": "code",
   "execution_count": 7,
   "metadata": {},
   "outputs": [
    {
     "data": {
      "text/html": [
       "<div>\n",
       "<style scoped>\n",
       "    .dataframe tbody tr th:only-of-type {\n",
       "        vertical-align: middle;\n",
       "    }\n",
       "\n",
       "    .dataframe tbody tr th {\n",
       "        vertical-align: top;\n",
       "    }\n",
       "\n",
       "    .dataframe thead th {\n",
       "        text-align: right;\n",
       "    }\n",
       "</style>\n",
       "<table border=\"1\" class=\"dataframe\">\n",
       "  <thead>\n",
       "    <tr style=\"text-align: right;\">\n",
       "      <th></th>\n",
       "      <th>rank</th>\n",
       "      <th>query_id</th>\n",
       "      <th>feature_0</th>\n",
       "      <th>feature_1</th>\n",
       "      <th>feature_2</th>\n",
       "      <th>feature_3</th>\n",
       "      <th>feature_4</th>\n",
       "      <th>feature_5</th>\n",
       "      <th>feature_6</th>\n",
       "      <th>feature_7</th>\n",
       "      <th>...</th>\n",
       "      <th>feature_134</th>\n",
       "      <th>feature_135</th>\n",
       "      <th>feature_136</th>\n",
       "      <th>feature_137</th>\n",
       "      <th>feature_138</th>\n",
       "      <th>feature_139</th>\n",
       "      <th>feature_140</th>\n",
       "      <th>feature_141</th>\n",
       "      <th>feature_142</th>\n",
       "      <th>feature_143</th>\n",
       "    </tr>\n",
       "  </thead>\n",
       "  <tbody>\n",
       "    <tr>\n",
       "      <th>count</th>\n",
       "      <td>235258.000000</td>\n",
       "      <td>235258.000000</td>\n",
       "      <td>235258.000000</td>\n",
       "      <td>235258.000000</td>\n",
       "      <td>235258.000000</td>\n",
       "      <td>235258.000000</td>\n",
       "      <td>235258.000000</td>\n",
       "      <td>235258.000000</td>\n",
       "      <td>235258.000000</td>\n",
       "      <td>235258.000000</td>\n",
       "      <td>...</td>\n",
       "      <td>2.352580e+05</td>\n",
       "      <td>2.352580e+05</td>\n",
       "      <td>235258.000000</td>\n",
       "      <td>235258.000000</td>\n",
       "      <td>235258.000000</td>\n",
       "      <td>235258.000000</td>\n",
       "      <td>235258.000000</td>\n",
       "      <td>235258.000000</td>\n",
       "      <td>235258.000000</td>\n",
       "      <td>235258.000000</td>\n",
       "    </tr>\n",
       "    <tr>\n",
       "      <th>mean</th>\n",
       "      <td>0.677869</td>\n",
       "      <td>14828.413401</td>\n",
       "      <td>1.911960</td>\n",
       "      <td>0.206233</td>\n",
       "      <td>1.189847</td>\n",
       "      <td>0.550272</td>\n",
       "      <td>1.960082</td>\n",
       "      <td>0.803964</td>\n",
       "      <td>0.097557</td>\n",
       "      <td>0.541174</td>\n",
       "      <td>...</td>\n",
       "      <td>4.763432e+02</td>\n",
       "      <td>1.046698e+04</td>\n",
       "      <td>0.070299</td>\n",
       "      <td>0.740710</td>\n",
       "      <td>11.067947</td>\n",
       "      <td>0.281747</td>\n",
       "      <td>0.027033</td>\n",
       "      <td>0.000269</td>\n",
       "      <td>22.457910</td>\n",
       "      <td>9.560379</td>\n",
       "    </tr>\n",
       "    <tr>\n",
       "      <th>std</th>\n",
       "      <td>0.830033</td>\n",
       "      <td>8193.945170</td>\n",
       "      <td>1.237374</td>\n",
       "      <td>0.579089</td>\n",
       "      <td>1.037233</td>\n",
       "      <td>0.790947</td>\n",
       "      <td>1.203534</td>\n",
       "      <td>0.339955</td>\n",
       "      <td>0.266035</td>\n",
       "      <td>0.419973</td>\n",
       "      <td>...</td>\n",
       "      <td>1.954840e+04</td>\n",
       "      <td>2.649584e+06</td>\n",
       "      <td>0.100721</td>\n",
       "      <td>0.352800</td>\n",
       "      <td>15.336861</td>\n",
       "      <td>0.392089</td>\n",
       "      <td>0.033351</td>\n",
       "      <td>0.002088</td>\n",
       "      <td>63.708018</td>\n",
       "      <td>14.347378</td>\n",
       "    </tr>\n",
       "    <tr>\n",
       "      <th>min</th>\n",
       "      <td>0.000000</td>\n",
       "      <td>10.000000</td>\n",
       "      <td>0.000000</td>\n",
       "      <td>0.000000</td>\n",
       "      <td>0.000000</td>\n",
       "      <td>0.000000</td>\n",
       "      <td>0.000000</td>\n",
       "      <td>0.000000</td>\n",
       "      <td>0.000000</td>\n",
       "      <td>0.000000</td>\n",
       "      <td>...</td>\n",
       "      <td>0.000000e+00</td>\n",
       "      <td>0.000000e+00</td>\n",
       "      <td>0.000000</td>\n",
       "      <td>0.000000</td>\n",
       "      <td>0.000000</td>\n",
       "      <td>0.000000</td>\n",
       "      <td>0.000000</td>\n",
       "      <td>0.000000</td>\n",
       "      <td>0.000000</td>\n",
       "      <td>0.000000</td>\n",
       "    </tr>\n",
       "    <tr>\n",
       "      <th>25%</th>\n",
       "      <td>0.000000</td>\n",
       "      <td>8215.000000</td>\n",
       "      <td>1.000000</td>\n",
       "      <td>0.000000</td>\n",
       "      <td>0.000000</td>\n",
       "      <td>0.000000</td>\n",
       "      <td>1.000000</td>\n",
       "      <td>0.666667</td>\n",
       "      <td>0.000000</td>\n",
       "      <td>0.000000</td>\n",
       "      <td>...</td>\n",
       "      <td>0.000000e+00</td>\n",
       "      <td>0.000000e+00</td>\n",
       "      <td>0.000000</td>\n",
       "      <td>0.620522</td>\n",
       "      <td>0.000000</td>\n",
       "      <td>0.000000</td>\n",
       "      <td>0.006703</td>\n",
       "      <td>0.000000</td>\n",
       "      <td>4.000000</td>\n",
       "      <td>2.000000</td>\n",
       "    </tr>\n",
       "    <tr>\n",
       "      <th>50%</th>\n",
       "      <td>0.000000</td>\n",
       "      <td>14935.000000</td>\n",
       "      <td>2.000000</td>\n",
       "      <td>0.000000</td>\n",
       "      <td>1.000000</td>\n",
       "      <td>0.000000</td>\n",
       "      <td>2.000000</td>\n",
       "      <td>1.000000</td>\n",
       "      <td>0.000000</td>\n",
       "      <td>0.500000</td>\n",
       "      <td>...</td>\n",
       "      <td>0.000000e+00</td>\n",
       "      <td>0.000000e+00</td>\n",
       "      <td>0.000000</td>\n",
       "      <td>0.926779</td>\n",
       "      <td>9.448900</td>\n",
       "      <td>0.000000</td>\n",
       "      <td>0.017761</td>\n",
       "      <td>0.000008</td>\n",
       "      <td>12.000000</td>\n",
       "      <td>5.500000</td>\n",
       "    </tr>\n",
       "    <tr>\n",
       "      <th>75%</th>\n",
       "      <td>1.000000</td>\n",
       "      <td>21580.000000</td>\n",
       "      <td>3.000000</td>\n",
       "      <td>0.000000</td>\n",
       "      <td>2.000000</td>\n",
       "      <td>1.000000</td>\n",
       "      <td>3.000000</td>\n",
       "      <td>1.000000</td>\n",
       "      <td>0.000000</td>\n",
       "      <td>1.000000</td>\n",
       "      <td>...</td>\n",
       "      <td>1.000000e+00</td>\n",
       "      <td>4.000000e-01</td>\n",
       "      <td>0.142857</td>\n",
       "      <td>0.999613</td>\n",
       "      <td>16.146733</td>\n",
       "      <td>0.500000</td>\n",
       "      <td>0.034954</td>\n",
       "      <td>0.000109</td>\n",
       "      <td>28.000000</td>\n",
       "      <td>12.000000</td>\n",
       "    </tr>\n",
       "    <tr>\n",
       "      <th>max</th>\n",
       "      <td>4.000000</td>\n",
       "      <td>29995.000000</td>\n",
       "      <td>31.000000</td>\n",
       "      <td>18.000000</td>\n",
       "      <td>27.000000</td>\n",
       "      <td>9.000000</td>\n",
       "      <td>31.000000</td>\n",
       "      <td>1.000000</td>\n",
       "      <td>1.000000</td>\n",
       "      <td>1.000000</td>\n",
       "      <td>...</td>\n",
       "      <td>1.731553e+06</td>\n",
       "      <td>8.000000e+08</td>\n",
       "      <td>0.818182</td>\n",
       "      <td>1.000000</td>\n",
       "      <td>2506.799764</td>\n",
       "      <td>1.000000</td>\n",
       "      <td>0.711261</td>\n",
       "      <td>0.250000</td>\n",
       "      <td>15074.000000</td>\n",
       "      <td>1552.000000</td>\n",
       "    </tr>\n",
       "  </tbody>\n",
       "</table>\n",
       "<p>8 rows × 146 columns</p>\n",
       "</div>"
      ],
      "text/plain": [
       "                rank       query_id      feature_0      feature_1  \\\n",
       "count  235258.000000  235258.000000  235258.000000  235258.000000   \n",
       "mean        0.677869   14828.413401       1.911960       0.206233   \n",
       "std         0.830033    8193.945170       1.237374       0.579089   \n",
       "min         0.000000      10.000000       0.000000       0.000000   \n",
       "25%         0.000000    8215.000000       1.000000       0.000000   \n",
       "50%         0.000000   14935.000000       2.000000       0.000000   \n",
       "75%         1.000000   21580.000000       3.000000       0.000000   \n",
       "max         4.000000   29995.000000      31.000000      18.000000   \n",
       "\n",
       "           feature_2      feature_3      feature_4      feature_5  \\\n",
       "count  235258.000000  235258.000000  235258.000000  235258.000000   \n",
       "mean        1.189847       0.550272       1.960082       0.803964   \n",
       "std         1.037233       0.790947       1.203534       0.339955   \n",
       "min         0.000000       0.000000       0.000000       0.000000   \n",
       "25%         0.000000       0.000000       1.000000       0.666667   \n",
       "50%         1.000000       0.000000       2.000000       1.000000   \n",
       "75%         2.000000       1.000000       3.000000       1.000000   \n",
       "max        27.000000       9.000000      31.000000       1.000000   \n",
       "\n",
       "           feature_6      feature_7  ...   feature_134   feature_135  \\\n",
       "count  235258.000000  235258.000000  ...  2.352580e+05  2.352580e+05   \n",
       "mean        0.097557       0.541174  ...  4.763432e+02  1.046698e+04   \n",
       "std         0.266035       0.419973  ...  1.954840e+04  2.649584e+06   \n",
       "min         0.000000       0.000000  ...  0.000000e+00  0.000000e+00   \n",
       "25%         0.000000       0.000000  ...  0.000000e+00  0.000000e+00   \n",
       "50%         0.000000       0.500000  ...  0.000000e+00  0.000000e+00   \n",
       "75%         0.000000       1.000000  ...  1.000000e+00  4.000000e-01   \n",
       "max         1.000000       1.000000  ...  1.731553e+06  8.000000e+08   \n",
       "\n",
       "         feature_136    feature_137    feature_138    feature_139  \\\n",
       "count  235258.000000  235258.000000  235258.000000  235258.000000   \n",
       "mean        0.070299       0.740710      11.067947       0.281747   \n",
       "std         0.100721       0.352800      15.336861       0.392089   \n",
       "min         0.000000       0.000000       0.000000       0.000000   \n",
       "25%         0.000000       0.620522       0.000000       0.000000   \n",
       "50%         0.000000       0.926779       9.448900       0.000000   \n",
       "75%         0.142857       0.999613      16.146733       0.500000   \n",
       "max         0.818182       1.000000    2506.799764       1.000000   \n",
       "\n",
       "         feature_140    feature_141    feature_142    feature_143  \n",
       "count  235258.000000  235258.000000  235258.000000  235258.000000  \n",
       "mean        0.027033       0.000269      22.457910       9.560379  \n",
       "std         0.033351       0.002088      63.708018      14.347378  \n",
       "min         0.000000       0.000000       0.000000       0.000000  \n",
       "25%         0.006703       0.000000       4.000000       2.000000  \n",
       "50%         0.017761       0.000008      12.000000       5.500000  \n",
       "75%         0.034954       0.000109      28.000000      12.000000  \n",
       "max         0.711261       0.250000   15074.000000    1552.000000  \n",
       "\n",
       "[8 rows x 146 columns]"
      ]
     },
     "execution_count": 7,
     "metadata": {},
     "output_type": "execute_result"
    }
   ],
   "source": [
    "data.describe()"
   ]
  },
  {
   "cell_type": "code",
   "execution_count": 8,
   "metadata": {},
   "outputs": [
    {
     "data": {
      "text/plain": [
       "0"
      ]
     },
     "execution_count": 8,
     "metadata": {},
     "output_type": "execute_result"
    }
   ],
   "source": [
    "data.isnull().sum().sum()"
   ]
  },
  {
   "cell_type": "code",
   "execution_count": 9,
   "metadata": {},
   "outputs": [
    {
     "data": {
      "text/plain": [
       "(2000,)"
      ]
     },
     "execution_count": 9,
     "metadata": {},
     "output_type": "execute_result"
    }
   ],
   "source": [
    "data.query_id.unique().shape"
   ]
  },
  {
   "cell_type": "markdown",
   "metadata": {},
   "source": [
    "# work with data"
   ]
  },
  {
   "cell_type": "code",
   "execution_count": 10,
   "metadata": {},
   "outputs": [],
   "source": [
    "new_data = data.drop(columns = ['feature_8', 'feature_100', 'feature_65', 'feature_20', 'feature_35', 'feature_64', 'feature_72'])"
   ]
  },
  {
   "cell_type": "code",
   "execution_count": 11,
   "metadata": {},
   "outputs": [],
   "source": [
    "cat_features = ['feature_95', 'feature_96', 'feature_97', 'feature_98', 'feature_99']"
   ]
  },
  {
   "cell_type": "code",
   "execution_count": 12,
   "metadata": {},
   "outputs": [],
   "source": [
    "cat_data = new_data[cat_features]\n",
    "y = new_data['rank']"
   ]
  },
  {
   "cell_type": "code",
   "execution_count": 13,
   "metadata": {},
   "outputs": [],
   "source": [
    "num_features = new_data.drop(columns=cat_features)\n",
    "num_features = num_features.drop(columns=['rank'])"
   ]
  },
  {
   "cell_type": "code",
   "execution_count": null,
   "metadata": {},
   "outputs": [],
   "source": [
    "for column in cat_data.columns.to_list():\n",
    "    cat_data[column] = cat_data[column].astype('category')"
   ]
  },
  {
   "cell_type": "markdown",
   "metadata": {},
   "source": [
    "# try to delete extreme"
   ]
  },
  {
   "cell_type": "code",
   "execution_count": 15,
   "metadata": {},
   "outputs": [],
   "source": [
    "def clear_from_extreme(data):\n",
    "    data_log = data.apply(lambda x:x if x == 0 else np.log(x))\n",
    "    data_std = np.std(data_log)\n",
    "    data_mean = np.mean(data_log)\n",
    "    three_std_plus = data_mean + 2*data_std\n",
    "    three_std_minus = data_mean - 2*data_std\n",
    "    new_data = data_log.apply(lambda x: x if x < three_std_plus else three_std_plus)\n",
    "    new_data = new_data.apply(lambda x: x if x > three_std_minus else three_std_minus)\n",
    "    return new_data"
   ]
  },
  {
   "cell_type": "code",
   "execution_count": 16,
   "metadata": {},
   "outputs": [],
   "source": [
    "num_features_log = num_features.apply(clear_from_extreme, axis=0)"
   ]
  },
  {
   "cell_type": "markdown",
   "metadata": {},
   "source": [
    "# fit model"
   ]
  },
  {
   "cell_type": "code",
   "execution_count": 17,
   "metadata": {},
   "outputs": [],
   "source": [
    "scaler = StandardScaler()\n",
    "scaled_num_features = scaler.fit_transform(num_features)"
   ]
  },
  {
   "cell_type": "code",
   "execution_count": 18,
   "metadata": {},
   "outputs": [],
   "source": [
    "new_data['qid'] = new_data['query_id']\n",
    "new_data = new_data.drop(columns=['query_id'])"
   ]
  },
  {
   "cell_type": "code",
   "execution_count": 19,
   "metadata": {},
   "outputs": [],
   "source": [
    "cleared_data_scaled = pd.concat([pd.DataFrame(scaled_num_features), cat_data, new_data['qid']], axis=1)\n",
    "cleared_data = pd.concat([pd.DataFrame(num_features), cat_data, new_data['qid']], axis=1)"
   ]
  },
  {
   "cell_type": "code",
   "execution_count": 20,
   "metadata": {},
   "outputs": [],
   "source": [
    "cleared_data_test = cleared_data.drop(columns=['feature_48'])"
   ]
  },
  {
   "cell_type": "code",
   "execution_count": 21,
   "metadata": {},
   "outputs": [
    {
     "data": {
      "text/plain": [
       "0.7270545897250926"
      ]
     },
     "execution_count": 21,
     "metadata": {},
     "output_type": "execute_result"
    }
   ],
   "source": [
    "kfold = StratifiedGroupKFold(shuffle=False)\n",
    "ranker_scaled = xgb.XGBRanker(tree_method=\"hist\", lambdarank_num_pair_per_sample=150, objective=\"rank:ndcg\", lambdarank_pair_method=\"mean\", enable_categorical=True)\n",
    "ranker_scaled.fit(cleared_data_scaled, y)\n",
    "scaled_cvs = cross_val_score(ranker_scaled, cleared_data_scaled, y, cv=kfold, groups=cleared_data_scaled.qid)\n",
    "np.mean(scaled_cvs)"
   ]
  },
  {
   "cell_type": "code",
   "execution_count": 22,
   "metadata": {},
   "outputs": [
    {
     "data": {
      "text/plain": [
       "0.7288241916214426"
      ]
     },
     "execution_count": 22,
     "metadata": {},
     "output_type": "execute_result"
    }
   ],
   "source": [
    "ranker_test = xgb.XGBRanker(tree_method=\"hist\", lambdarank_num_pair_per_sample=150, objective=\"rank:ndcg\", lambdarank_pair_method=\"mean\", enable_categorical=True)\n",
    "ranker_test.fit(cleared_data_test, y)\n",
    "sel_cvs = cross_val_score(ranker_test, cleared_data_test, y, cv=kfold, groups=cleared_data_test.qid)\n",
    "np.mean(sel_cvs)"
   ]
  },
  {
   "cell_type": "code",
   "execution_count": 104,
   "metadata": {},
   "outputs": [
    {
     "data": {
      "image/png": "[encoded data removed]",
      "text/plain": [
       "<Figure size 2000x1000 with 1 Axes>"
      ]
     },
     "metadata": {},
     "output_type": "display_data"
    }
   ],
   "source": [
    "feature_imp=pd.DataFrame(sorted(zip(ranker_test.feature_importances_,cleared_data_test.columns.values[1:-1])), columns=['Value','Feature'])\n",
    "plt.figure(figsize=(20, 10))\n",
    "sns.barplot(x=\"Value\", y=\"Feature\", data=feature_imp.sort_values(by=\"Value\", ascending=False).iloc[:50])\n",
    "plt.title('XGB95 Most Important Features')\n",
    "plt.tight_layout()\n",
    "plt.show()"
   ]
  },
  {
   "cell_type": "markdown",
   "metadata": {},
   "source": [
    "## kendalltau"
   ]
  },
  {
   "cell_type": "code",
   "execution_count": 23,
   "metadata": {},
   "outputs": [],
   "source": [
    "from scipy.stats import kendalltau"
   ]
  },
  {
   "cell_type": "code",
   "execution_count": 26,
   "metadata": {},
   "outputs": [],
   "source": [
    "data_slice = cleared_data_test.loc[cleared_data_test['qid'].isin(cleared_data_test['qid'].unique()[:10])]"
   ]
  },
  {
   "cell_type": "code",
   "execution_count": 29,
   "metadata": {},
   "outputs": [],
   "source": [
    "preds = ranker_test.predict(data_slice)"
   ]
  },
  {
   "cell_type": "code",
   "execution_count": 35,
   "metadata": {},
   "outputs": [],
   "source": [
    "y_slice = y[:data_slice.shape[0]]"
   ]
  },
  {
   "cell_type": "code",
   "execution_count": 37,
   "metadata": {},
   "outputs": [
    {
     "data": {
      "text/plain": [
       "0.37832016846857824"
      ]
     },
     "execution_count": 37,
     "metadata": {},
     "output_type": "execute_result"
    }
   ],
   "source": [
    "kendalltau(y_slice, preds).statistic"
   ]
  }
 ],
 "metadata": {
  "kernelspec": {
   "display_name": "Python 3",
   "language": "python",
   "name": "python3"
  },
  "language_info": {
   "codemirror_mode": {
    "name": "ipython",
    "version": 3
   },
   "file_extension": ".py",
   "mimetype": "text/x-python",
   "name": "python",
   "nbconvert_exporter": "python",
   "pygments_lexer": "ipython3",
   "version": "3.10.12"
  }
 },
 "nbformat": 4,
 "nbformat_minor": 2
}
